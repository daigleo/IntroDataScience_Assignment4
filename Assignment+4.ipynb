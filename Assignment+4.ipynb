{
 "cells": [
  {
   "cell_type": "markdown",
   "metadata": {},
   "source": [
    "---\n",
    "\n",
    "_You are currently looking at **version 1.1** of this notebook. To download notebooks and datafiles, as well as get help on Jupyter notebooks in the Coursera platform, visit the [Jupyter Notebook FAQ](https://www.coursera.org/learn/python-data-analysis/resources/0dhYG) course resource._\n",
    "\n",
    "---"
   ]
  },
  {
   "cell_type": "code",
   "execution_count": 1,
   "metadata": {},
   "outputs": [],
   "source": [
    "import pandas as pd\n",
    "import numpy as np\n",
    "from scipy.stats import ttest_ind"
   ]
  },
  {
   "cell_type": "markdown",
   "metadata": {},
   "source": [
    "# Assignment 4 - Hypothesis Testing\n",
    "This assignment requires more individual learning than previous assignments - you are encouraged to check out the [pandas documentation](http://pandas.pydata.org/pandas-docs/stable/) to find functions or methods you might not have used yet, or ask questions on [Stack Overflow](http://stackoverflow.com/) and tag them as pandas and python related. And of course, the discussion forums are open for interaction with your peers and the course staff.\n",
    "\n",
    "Definitions:\n",
    "* A _quarter_ is a specific three month period, Q1 is January through March, Q2 is April through June, Q3 is July through September, Q4 is October through December.\n",
    "* A _recession_ is defined as starting with two consecutive quarters of GDP decline, and ending with two consecutive quarters of GDP growth.\n",
    "* A _recession bottom_ is the quarter within a recession which had the lowest GDP.\n",
    "* A _university town_ is a city which has a high percentage of university students compared to the total population of the city.\n",
    "\n",
    "**Hypothesis**: University towns have their mean housing prices less effected by recessions. Run a t-test to compare the ratio of the mean price of houses in university towns the quarter before the recession starts compared to the recession bottom. (`price_ratio=quarter_before_recession/recession_bottom`)\n",
    "\n",
    "The following data files are available for this assignment:\n",
    "* From the [Zillow research data site](http://www.zillow.com/research/data/) there is housing data for the United States. In particular the datafile for [all homes at a city level](http://files.zillowstatic.com/research/public/City/City_Zhvi_AllHomes.csv), ```City_Zhvi_AllHomes.csv```, has median home sale prices at a fine grained level.\n",
    "* From the Wikipedia page on college towns is a list of [university towns in the United States](https://en.wikipedia.org/wiki/List_of_college_towns#College_towns_in_the_United_States) which has been copy and pasted into the file ```university_towns.txt```.\n",
    "* From Bureau of Economic Analysis, US Department of Commerce, the [GDP over time](http://www.bea.gov/national/index.htm#gdp) of the United States in current dollars (use the chained value in 2009 dollars), in quarterly intervals, in the file ```gdplev.xls```. For this assignment, only look at GDP data from the first quarter of 2000 onward.\n",
    "\n",
    "Each function in this assignment below is worth 10%, with the exception of ```run_ttest()```, which is worth 50%."
   ]
  },
  {
   "cell_type": "code",
   "execution_count": 2,
   "metadata": {},
   "outputs": [],
   "source": [
    "import pandas as pd\n",
    "import numpy as np\n",
    "import re\n",
    "from scipy import stats"
   ]
  },
  {
   "cell_type": "code",
   "execution_count": 3,
   "metadata": {},
   "outputs": [],
   "source": [
    "# Use this dictionary to map state names to two letter acronyms\n",
    "states = {'OH': 'Ohio', 'KY': 'Kentucky', 'AS': 'American Samoa', 'NV': 'Nevada', 'WY': 'Wyoming', 'NA': 'National', 'AL': 'Alabama', 'MD': 'Maryland', 'AK': 'Alaska', 'UT': 'Utah', 'OR': 'Oregon', 'MT': 'Montana', 'IL': 'Illinois', 'TN': 'Tennessee', 'DC': 'District of Columbia', 'VT': 'Vermont', 'ID': 'Idaho', 'AR': 'Arkansas', 'ME': 'Maine', 'WA': 'Washington', 'HI': 'Hawaii', 'WI': 'Wisconsin', 'MI': 'Michigan', 'IN': 'Indiana', 'NJ': 'New Jersey', 'AZ': 'Arizona', 'GU': 'Guam', 'MS': 'Mississippi', 'PR': 'Puerto Rico', 'NC': 'North Carolina', 'TX': 'Texas', 'SD': 'South Dakota', 'MP': 'Northern Mariana Islands', 'IA': 'Iowa', 'MO': 'Missouri', 'CT': 'Connecticut', 'WV': 'West Virginia', 'SC': 'South Carolina', 'LA': 'Louisiana', 'KS': 'Kansas', 'NY': 'New York', 'NE': 'Nebraska', 'OK': 'Oklahoma', 'FL': 'Florida', 'CA': 'California', 'CO': 'Colorado', 'PA': 'Pennsylvania', 'DE': 'Delaware', 'NM': 'New Mexico', 'RI': 'Rhode Island', 'MN': 'Minnesota', 'VI': 'Virgin Islands', 'NH': 'New Hampshire', 'MA': 'Massachusetts', 'GA': 'Georgia', 'ND': 'North Dakota', 'VA': 'Virginia'}"
   ]
  },
  {
   "cell_type": "code",
   "execution_count": 4,
   "metadata": {},
   "outputs": [],
   "source": [
    "def get_gdp_data():\n",
    "    # Load data from Excel\n",
    "    gdp = pd.read_excel('gdplev.xls', header = None, usecols = [4,5,6],\n",
    "                        skiprows = 8, index_col = 0, names=['GDP','GDP 2009 dollars'])\n",
    "    gdp.index.name = 'Quarter'\n",
    "\n",
    "    # Assignment says to use only data from 2000 onwards.\n",
    "    tokeep = [False if re.search('^20', quarter) is None else True for quarter in gdp.index.values]\n",
    "    gdp = gdp.loc[tokeep]\n",
    "    \n",
    "    return gdp"
   ]
  },
  {
   "cell_type": "code",
   "execution_count": 5,
   "metadata": {
    "umich_part_id": "021",
    "umich_partlist_id": "004"
   },
   "outputs": [],
   "source": [
    "def get_list_of_university_towns():\n",
    "    '''Returns a DataFrame of towns and the states they are in from the \n",
    "    university_towns.txt list. The format of the DataFrame should be:\n",
    "    DataFrame( [ [\"Michigan\", \"Ann Arbor\"], [\"Michigan\", \"Yipsilanti\"] ], \n",
    "    columns=[\"State\", \"RegionName\"]  )\n",
    "    \n",
    "    The following cleaning needs to be done:\n",
    "\n",
    "    1. For \"State\", removing characters from \"[\" to the end.\n",
    "    2. For \"RegionName\", when applicable, removing every character from \" (\" to the end.\n",
    "    3. Depending on how you read the data, you may need to remove newline character '\\n'. '''\n",
    "    \n",
    "    # Load data frame file\n",
    "    uni_towns = pd.read_csv('university_towns.txt', sep = '\\n', header = None, names = ['RegionName'])\n",
    "    # Flag rows that are states for later removal\n",
    "    tokeep = [True if re.search('\\[edit\\]', name) is None else False for name in uni_towns['RegionName']]\n",
    "    # Remove values that are not related to towns or state\n",
    "#     uni_towns.replace('\\s?\\[.+\\](.?)+|\\s?\\(.+\\)(.?)+', value = '', inplace = True, regex = True)\n",
    "    uni_towns.replace('\\s?\\[.+|\\s?\\(.+', value = '', inplace = True, regex = True)\n",
    "    ### \n",
    "    # Use list of states to populate a new column called 'states'\n",
    "    # First, identify which entries are states and add it to the column, put NaN otherwise\n",
    "    # Then, forward fill the NaN with the value of the state (The state associated with the\n",
    "    # town is always somewhere above it.)\n",
    "    uni_towns['State'] = uni_towns['RegionName'].apply(lambda val : val if val in states.values() else np.nan)\n",
    "    uni_towns['State'].fillna(method = 'ffill', inplace = True)\n",
    "    \n",
    "    return uni_towns.loc[tokeep,:]"
   ]
  },
  {
   "cell_type": "code",
   "execution_count": 6,
   "metadata": {
    "umich_part_id": "022",
    "umich_partlist_id": "004"
   },
   "outputs": [],
   "source": [
    "def get_recession_start():\n",
    "    '''Returns the year and quarter of the recession start time as a \n",
    "    string value in a format such as 2005q3'''\n",
    "        \n",
    "    # Use chained GDP value in 2009 dollars\n",
    "    gdp = get_gdp_data()\n",
    "    gdp['Start'] = (gdp['GDP 2009 dollars'] < gdp['GDP 2009 dollars'].shift()) & (gdp['GDP 2009 dollars'].shift() < gdp['GDP 2009 dollars'].shift(2))\n",
    "#     gdp['Start'].get_loc(gdp['Start'].idxmax())\n",
    "    return gdp.index[(gdp['Start'].index.get_loc(gdp['Start'].idxmax()) - 1)]"
   ]
  },
  {
   "cell_type": "code",
   "execution_count": 7,
   "metadata": {
    "umich_part_id": "023",
    "umich_partlist_id": "004"
   },
   "outputs": [],
   "source": [
    "def get_recession_end():\n",
    "    '''Returns the year and quarter of the recession end time as a \n",
    "    string value in a format such as 2005q3'''\n",
    "        \n",
    "    # Use chained GDP value in 2009 dollars\n",
    "    gdp = get_gdp_data()\n",
    "    start = get_recession_start()\n",
    "    \n",
    "    gdp = gdp.loc[start:]\n",
    "    \n",
    "    gdp['End'] = (gdp['GDP 2009 dollars'] > gdp['GDP 2009 dollars'].shift()) & \\\n",
    "                 (gdp['GDP 2009 dollars'].shift() > gdp['GDP 2009 dollars'].shift(2))\n",
    "       \n",
    "    return gdp['End'].idxmax()"
   ]
  },
  {
   "cell_type": "code",
   "execution_count": 8,
   "metadata": {
    "umich_part_id": "024",
    "umich_partlist_id": "004"
   },
   "outputs": [],
   "source": [
    "def get_recession_bottom():\n",
    "    '''Returns the year and quarter of the recession bottom time as a \n",
    "    string value in a format such as 2005q3'''\n",
    "    \n",
    "    gdp = get_gdp_data()\n",
    "    start = get_recession_start()\n",
    "    end = get_recession_end()\n",
    "    \n",
    "    gdp = gdp.loc[start:end]\n",
    "    \n",
    "    return gdp['GDP 2009 dollars'].idxmin()"
   ]
  },
  {
   "cell_type": "code",
   "execution_count": 9,
   "metadata": {
    "umich_part_id": "025",
    "umich_partlist_id": "004"
   },
   "outputs": [],
   "source": [
    "def convert_housing_data_to_quarters():\n",
    "    '''Converts the housing data to quarters and returns it as mean \n",
    "    values in a dataframe. This dataframe should be a dataframe with\n",
    "    columns for 2000q1 through 2016q3, and should have a multi-index\n",
    "    in the shape of [\"State\",\"RegionName\"].\n",
    "    \n",
    "    Note: Quarters are defined in the assignment description, they are\n",
    "    not arbitrary three month periods.\n",
    "    \n",
    "    The resulting dataframe should have 67 columns, and 10,730 rows.\n",
    "    '''\n",
    "#     housing_data = pd.read_csv('City_Zhvi_AllHomes.csv', header = 0, index_col = [2, 1])\n",
    "    \n",
    "#     housing_data.rename(mapper = states, axis = 'index', level = 0, inplace = True)\n",
    "    \n",
    "#     first_month = housing_data.columns.get_loc('1996-04')\n",
    "    \n",
    "#     housing_data = (housing_data.iloc[:,4:].groupby(\n",
    "#                 pd.PeriodIndex(housing_data.iloc[:,4:].columns, freq = 'Q'), axis = 1)\n",
    "#                  .mean().rename(columns = lambda c: str(c).lower())\n",
    "#                  .loc[:,'2000q1':])  \n",
    "\n",
    "### The code has to be modified because the grader uses an older version of pandas\n",
    "### that does not recognize some of the functionalities used above.\n",
    "    housing_data = pd.read_csv('City_Zhvi_AllHomes.csv', header = 0)\n",
    "    \n",
    "    housing_data.replace({'State':states}, inplace = True)\n",
    "    \n",
    "    first_month = housing_data.columns.get_loc('1996-04')\n",
    "    index = housing_data[['State','RegionName']]\n",
    "    housing_data = (housing_data.iloc[:,first_month:].groupby(\n",
    "                pd.PeriodIndex(housing_data.iloc[:,first_month:].columns, freq = 'Q'), axis = 1)\n",
    "                 .mean().rename(columns = lambda c: str(c).lower())\n",
    "                 .loc[:,'2000q1':])\n",
    "    housing_data = pd.concat([index, housing_data], axis=1).set_index(['State','RegionName'])\n",
    "    return housing_data"
   ]
  },
  {
   "cell_type": "code",
   "execution_count": 13,
   "metadata": {
    "umich_part_id": "026",
    "umich_partlist_id": "004"
   },
   "outputs": [
    {
     "data": {
      "text/plain": [
       "(False, 0.025445414358584505, 'university town')"
      ]
     },
     "execution_count": 13,
     "metadata": {},
     "output_type": "execute_result"
    }
   ],
   "source": [
    "def run_ttest():\n",
    "    '''First creates new data showing the decline or growth of housing prices\n",
    "    between the recession start and the recession bottom. Then runs a ttest\n",
    "    comparing the university town values to the non-university towns values, \n",
    "    return whether the alternative hypothesis (that the two groups are the same)\n",
    "    is true or not as well as the p-value of the confidence. \n",
    "    \n",
    "    Return the tuple (different, p, better) where different=True if the t-test is\n",
    "    True at a p<0.01 (we reject the null hypothesis), or different=False if \n",
    "    otherwise (we cannot reject the null hypothesis). The variable p should\n",
    "    be equal to the exact p value returned from scipy.stats.ttest_ind(). The\n",
    "    value for better should be either \"university town\" or \"non-university town\"\n",
    "    depending on which has a lower mean price ratio (which is equivilent to a\n",
    "    reduced market loss).'''\n",
    "    \n",
    "    # Get housing data\n",
    "    housing_data = convert_housing_data_to_quarters()\n",
    "    \n",
    "    # Use start and bottom of recession to isolate the\n",
    "    # two quarters of interest. Note that we need to use\n",
    "    # the quarter preceeding the start of the recession\n",
    "    housing_data = (housing_data.loc[:, [get_recession_start(), get_recession_bottom()]])\n",
    "    housing_data['mean price ratio'] = housing_data.iloc[:,0] / housing_data.iloc[:,1]\n",
    "    \n",
    "    # Find the university towns in the housing data\n",
    "    uni_towns = get_list_of_university_towns()\n",
    "    \n",
    "    # Some of the university towns are not in the housing data\n",
    "    # and need to be filtered out of uni_towns\n",
    "#     uni_towns = uni_towns.loc[uni_towns['City'] in housing_data.index.get_level_values(1)]\n",
    "#     uni_towns = list(zip(uni_towns['State'], uni_towns['City']))\n",
    "    housing_data = (housing_data.merge(uni_towns,\n",
    "                                       how = 'outer',\n",
    "                                       left_index = True,\n",
    "                                       right_on = ['State','RegionName'],\n",
    "                                       indicator=\"_flag\")\n",
    "                   )\n",
    "    \n",
    "#     uni_town has City and State columns\n",
    "#     housing data has State and RegionName indices\n",
    "# You should have 269 university towns out of the 517 from Q1 and 10461 non-university towns\n",
    "    uni = housing_data.loc[housing_data['_flag'] == 'both', 'mean price ratio']\n",
    "    not_uni = housing_data.loc[housing_data['_flag'] != 'both', 'mean price ratio']\n",
    "    _, p = stats.ttest_ind(uni, not_uni, nan_policy = 'omit')\n",
    "    \n",
    "    diff = True if p < 0.01 else False\n",
    "    better = 'university town' if uni.mean() < not_uni.mean() else 'non-university town'\n",
    "    \n",
    "\n",
    "    return (diff, p, better)\n",
    "\n",
    "run_ttest()\n",
    "# (False, 0.025445414358584505, 'university town')"
   ]
  },
  {
   "cell_type": "code",
   "execution_count": 12,
   "metadata": {},
   "outputs": [
    {
     "name": "stdout",
     "output_type": "stream",
     "text": [
      "Type test: Passed\n",
      "Test \"different\" type: Passed\n",
      "Test \"p\" type: Passed\n",
      "Test \"better\" type: Passed\n",
      "Test \"different\" spelling: Passed\n",
      "\n"
     ]
    }
   ],
   "source": [
    "# test output type (different, p, better)\n",
    "def test_q6():\n",
    "    q6 = run_ttest()\n",
    "    different, p, better = q6\n",
    "\n",
    "    res = 'Type test: '\n",
    "    res += ['Failed\\n','Passed\\n'][type(q6) == tuple]\n",
    "\n",
    "    res += 'Test \"different\" type: '\n",
    "    res += ['Failed\\n','Passed\\n'][type(different) == bool or type(different) == np.bool_]\n",
    "\n",
    "    res += 'Test \"p\" type: '\n",
    "    res += ['Failed\\n','Passed\\n'][type(p) == np.float64]\n",
    "\n",
    "    res +='Test \"better\" type: '\n",
    "    res += ['Failed\\n','Passed\\n'][type(better) == str]\n",
    "    if type(better) != str:\n",
    "        res +='\"better\" should be a string with value \"university town\" or  \"non-university town\"'\n",
    "        return res\n",
    "    res += 'Test \"different\" spelling: '\n",
    "    res += ['Failed\\n','Passed\\n'][better in [\"university town\", \"non-university town\"]]\n",
    "    return res\n",
    "print(test_q6())"
   ]
  }
 ],
 "metadata": {
  "coursera": {
   "course_slug": "python-data-analysis",
   "graded_item_id": "Il9Fx",
   "launcher_item_id": "TeDW0",
   "part_id": "WGlun"
  },
  "kernelspec": {
   "display_name": "Python 3",
   "language": "python",
   "name": "python3"
  },
  "language_info": {
   "codemirror_mode": {
    "name": "ipython",
    "version": 3
   },
   "file_extension": ".py",
   "mimetype": "text/x-python",
   "name": "python",
   "nbconvert_exporter": "python",
   "pygments_lexer": "ipython3",
   "version": "3.7.0b4"
  },
  "umich": {
   "id": "Assignment 4",
   "version": "1.1"
  }
 },
 "nbformat": 4,
 "nbformat_minor": 1
}
